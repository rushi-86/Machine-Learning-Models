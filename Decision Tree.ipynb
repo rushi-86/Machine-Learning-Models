{
 "cells": [
  {
   "cell_type": "code",
   "execution_count": 1,
   "metadata": {},
   "outputs": [
    {
     "ename": "SyntaxError",
     "evalue": "invalid syntax (<ipython-input-1-078706232ef1>, line 1)",
     "output_type": "error",
     "traceback": [
      "\u001b[1;36m  File \u001b[1;32m\"<ipython-input-1-078706232ef1>\"\u001b[1;36m, line \u001b[1;32m1\u001b[0m\n\u001b[1;33m    training data = [['Green', 3, 'Mango'],\u001b[0m\n\u001b[1;37m             ^\u001b[0m\n\u001b[1;31mSyntaxError\u001b[0m\u001b[1;31m:\u001b[0m invalid syntax\n"
     ]
    }
   ],
   "source": [
    "training_data = [['Green', 3, 'Mango'], \n",
    "                 ['Yellow', 3, 'Mango'], \n",
    "                 ['Red', 1, 'Grape'], \n",
    "                 ['Red', 1, 'Grape'], \n",
    "                 ['Yellow', 3, 'Lemon']]\n",
    "# column labels\n",
    "# These are used only to print the tree.\n",
    "header = ['color', 'diamter', 'label']\n",
    "\n",
    "def unique_vals(rows, col):\n",
    "    '''find unique values for a column in a dataset'''\n",
    "    return set([row[col] for row in rows])\n",
    "###\n",
    "# demo:\n",
    "# unique_vals(training_data, 0)\n",
    "# unique_vals(training_data, 1)\n",
    "###\n",
    "def class_counts(rows):\n",
    "    '''Counts the number of each type of example in a dataset'''\n",
    "    counts = {}\n",
    "    for row in rows:\n",
    "        # in our dataset format, the label is always the last column\n",
    "        label = row[-1]\n",
    "        if label not in counts:\n",
    "            counts[label] = 0\n",
    "        counts[label] += 1\n",
    "    return counts\n",
    "\n",
    "###\n",
    "# Demo:\n",
    "# class_counts(training_data)\n",
    "###\n",
    "\n",
    "def is_numeric(value):\n",
    "    '''Test if a value is numeric'''\n",
    "    return isinstance(value, int) or isinstance(value, float)\n",
    "\n",
    "###\n",
    "# Demo:\n",
    "# is_numeric(7)\n",
    "# is_numeric('Red')\n",
    "###\n",
    "\n",
    "class Question:\n",
    "    \n"
   ]
  },
  {
   "cell_type": "code",
   "execution_count": null,
   "metadata": {},
   "outputs": [],
   "source": []
  }
 ],
 "metadata": {
  "kernelspec": {
   "display_name": "Python 3",
   "language": "python",
   "name": "python3"
  },
  "language_info": {
   "codemirror_mode": {
    "name": "ipython",
    "version": 3
   },
   "file_extension": ".py",
   "mimetype": "text/x-python",
   "name": "python",
   "nbconvert_exporter": "python",
   "pygments_lexer": "ipython3",
   "version": "3.8.5"
  }
 },
 "nbformat": 4,
 "nbformat_minor": 4
}
